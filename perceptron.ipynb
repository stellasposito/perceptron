{
  "cells": [
    {
      "cell_type": "markdown",
      "metadata": {
        "id": "F0rIkNa4n1v_"
      },
      "source": [
        "## Introdução\n",
        "\n",
        "Você foi contratado por uma grande empresa de cosméticos para desenvolver um método para classificar diferentes espécies de uma flor. Essencialmente, a empresa está interessada em separar automaticamente espécies de uma flor chamada Iris. Esse tipo de flor é composta por três espécies: **Setosa**, **Virginica** e **Versicolour**, apresentadas na Figura 1. As duas primeiras (Setosa e Virginica) possuem propriedades aromáticas de interesse da empresa, já a última (Versicolour) não pode ser utilizada.\n",
        "\n",
        "Devido à forte semelhança visual entre elas, ocorreu a ideia de que, talvez, seja possível detectar cada espécie pelas medidas de comprimento e largura das pétalas. Com base nessa informação, a empresa criou duas base de dados pré-classificadas (Setosa + Versicolour e Virginica + Versicolour) com as respectivas medidas das pétalas das flores. A sua função é implementar o método Perceptron para determinar a espécie de uma Iris a partir dos dados das pétalas.\n",
        "\n",
        "<br>\n",
        "<br>\n",
        "\n",
        "<center>\n",
        "<div style=\"display:inline-block;\">\n",
        "    <div>\n",
        "    <div style=\"padding: 5px; float: left;\">\n",
        "        <img src=\"figs/iris_setosa.jpeg\" style=\"height:180px;\"/>\n",
        "        <center><em>(a) Setosa</em></center>\n",
        "    </div>\n",
        "    <div style=\"padding: 5px; float: left;\">\n",
        "        <img src=\"figs/iris_virginica.jpeg\"  style=\"height:180px;\"/>\n",
        "        <center><em>(b) Virginica</em></center>\n",
        "    </div>\n",
        "    <div style=\"padding: 5px; float: left;\">\n",
        "        <img src=\"figs/iris_versicolour.jpeg\"  style=\"height:180px;\"/>\n",
        "        <center><em>(c) Versicolour</em></center>\n",
        "    </div>\n",
        "    </div>\n",
        "    <center><em>Figura 1. Espécies de Iris.</em></center>\n",
        "</div>\n",
        "</center>\n",
        "\n"
      ]
    },
    {
      "cell_type": "markdown",
      "metadata": {
        "id": "5n6PGXlPn1wB"
      },
      "source": [
        "## Parte 1: Visualização dos dados\n",
        "\n",
        "Muitas vezes, a visualização dos dados auxilia na interpretação dos mesmos\n",
        "e como eles estão distribuídos. Nesta etapa, você precisa completar a\n",
        "função de normalização dos atributos ( <tt>normalizacao()</tt> )."
      ]
    },
    {
      "cell_type": "markdown",
      "metadata": {
        "nbpresent": {
          "id": "0e361691-e033-496b-9343-16330fd7b7ae"
        },
        "id": "kvWfcBj6n1wC"
      },
      "source": [
        "Primeiro, vamos carregar os dados do arquivo."
      ]
    },
    {
      "cell_type": "code",
      "execution_count": null,
      "metadata": {
        "nbpresent": {
          "id": "b274d631-4f72-4234-89ec-444cfe36a1ac"
        },
        "colab": {
          "base_uri": "https://localhost:8080/"
        },
        "id": "2n6rPWQKn1wC",
        "outputId": "7ce47181-b9ad-4e67-a7b8-f1aa423bad49"
      },
      "outputs": [
        {
          "output_type": "stream",
          "name": "stdout",
          "text": [
            "Dados carregados com sucesso!\n"
          ]
        }
      ],
      "source": [
        "# -*- coding: utf-8 -*-\n",
        "\n",
        "import numpy as np #importa a biblioteca usada para trabalhar com vetores e matrizes\n",
        "import pandas as pd #importa a biblioteca usada para trabalhar com dataframes (dados em formato de tabela) e análise de dados\n",
        "import os # importa a biblioteca para tarefas relacionadas ao sistema operacional\n",
        "\n",
        "# Importa o arquivo e guarda em um dataframe do Pandas\n",
        "df_dataset = pd.read_csv('/content/dados.csv', sep=',', index_col=None)\n",
        "\n",
        "print('Dados carregados com sucesso!')"
      ]
    },
    {
      "cell_type": "markdown",
      "metadata": {
        "nbpresent": {
          "id": "95683e28-4b7b-4d28-9aee-9b6abf68f3e2"
        },
        "id": "2KnmbZCWn1wE"
      },
      "source": [
        "Agora, vamos dar uma olhada nas cinco primeiras amostras da base de dados."
      ]
    },
    {
      "cell_type": "code",
      "execution_count": null,
      "metadata": {
        "nbpresent": {
          "id": "e6fc786d-681a-4f29-9932-e46534412e22"
        },
        "colab": {
          "base_uri": "https://localhost:8080/",
          "height": 206
        },
        "id": "BiKVyAqzn1wE",
        "outputId": "dc2565a8-0a89-4e37-c896-4df0a06d01ab"
      },
      "outputs": [
        {
          "output_type": "display_data",
          "data": {
            "text/plain": [
              "   largura_petala  comprimento_petala  classe\n",
              "0             4.9                 3.1       0\n",
              "1             4.4                 3.0       0\n",
              "2             5.7                 4.4       0\n",
              "3             5.5                 4.2       0\n",
              "4             4.9                 3.1       0"
            ],
            "text/html": [
              "\n",
              "  <div id=\"df-16f9c3ad-0591-49e8-b9bf-49b3d9370aff\">\n",
              "    <div class=\"colab-df-container\">\n",
              "      <div>\n",
              "<style scoped>\n",
              "    .dataframe tbody tr th:only-of-type {\n",
              "        vertical-align: middle;\n",
              "    }\n",
              "\n",
              "    .dataframe tbody tr th {\n",
              "        vertical-align: top;\n",
              "    }\n",
              "\n",
              "    .dataframe thead th {\n",
              "        text-align: right;\n",
              "    }\n",
              "</style>\n",
              "<table border=\"1\" class=\"dataframe\">\n",
              "  <thead>\n",
              "    <tr style=\"text-align: right;\">\n",
              "      <th></th>\n",
              "      <th>largura_petala</th>\n",
              "      <th>comprimento_petala</th>\n",
              "      <th>classe</th>\n",
              "    </tr>\n",
              "  </thead>\n",
              "  <tbody>\n",
              "    <tr>\n",
              "      <th>0</th>\n",
              "      <td>4.9</td>\n",
              "      <td>3.1</td>\n",
              "      <td>0</td>\n",
              "    </tr>\n",
              "    <tr>\n",
              "      <th>1</th>\n",
              "      <td>4.4</td>\n",
              "      <td>3.0</td>\n",
              "      <td>0</td>\n",
              "    </tr>\n",
              "    <tr>\n",
              "      <th>2</th>\n",
              "      <td>5.7</td>\n",
              "      <td>4.4</td>\n",
              "      <td>0</td>\n",
              "    </tr>\n",
              "    <tr>\n",
              "      <th>3</th>\n",
              "      <td>5.5</td>\n",
              "      <td>4.2</td>\n",
              "      <td>0</td>\n",
              "    </tr>\n",
              "    <tr>\n",
              "      <th>4</th>\n",
              "      <td>4.9</td>\n",
              "      <td>3.1</td>\n",
              "      <td>0</td>\n",
              "    </tr>\n",
              "  </tbody>\n",
              "</table>\n",
              "</div>\n",
              "      <button class=\"colab-df-convert\" onclick=\"convertToInteractive('df-16f9c3ad-0591-49e8-b9bf-49b3d9370aff')\"\n",
              "              title=\"Convert this dataframe to an interactive table.\"\n",
              "              style=\"display:none;\">\n",
              "        \n",
              "  <svg xmlns=\"http://www.w3.org/2000/svg\" height=\"24px\"viewBox=\"0 0 24 24\"\n",
              "       width=\"24px\">\n",
              "    <path d=\"M0 0h24v24H0V0z\" fill=\"none\"/>\n",
              "    <path d=\"M18.56 5.44l.94 2.06.94-2.06 2.06-.94-2.06-.94-.94-2.06-.94 2.06-2.06.94zm-11 1L8.5 8.5l.94-2.06 2.06-.94-2.06-.94L8.5 2.5l-.94 2.06-2.06.94zm10 10l.94 2.06.94-2.06 2.06-.94-2.06-.94-.94-2.06-.94 2.06-2.06.94z\"/><path d=\"M17.41 7.96l-1.37-1.37c-.4-.4-.92-.59-1.43-.59-.52 0-1.04.2-1.43.59L10.3 9.45l-7.72 7.72c-.78.78-.78 2.05 0 2.83L4 21.41c.39.39.9.59 1.41.59.51 0 1.02-.2 1.41-.59l7.78-7.78 2.81-2.81c.8-.78.8-2.07 0-2.86zM5.41 20L4 18.59l7.72-7.72 1.47 1.35L5.41 20z\"/>\n",
              "  </svg>\n",
              "      </button>\n",
              "      \n",
              "  <style>\n",
              "    .colab-df-container {\n",
              "      display:flex;\n",
              "      flex-wrap:wrap;\n",
              "      gap: 12px;\n",
              "    }\n",
              "\n",
              "    .colab-df-convert {\n",
              "      background-color: #E8F0FE;\n",
              "      border: none;\n",
              "      border-radius: 50%;\n",
              "      cursor: pointer;\n",
              "      display: none;\n",
              "      fill: #1967D2;\n",
              "      height: 32px;\n",
              "      padding: 0 0 0 0;\n",
              "      width: 32px;\n",
              "    }\n",
              "\n",
              "    .colab-df-convert:hover {\n",
              "      background-color: #E2EBFA;\n",
              "      box-shadow: 0px 1px 2px rgba(60, 64, 67, 0.3), 0px 1px 3px 1px rgba(60, 64, 67, 0.15);\n",
              "      fill: #174EA6;\n",
              "    }\n",
              "\n",
              "    [theme=dark] .colab-df-convert {\n",
              "      background-color: #3B4455;\n",
              "      fill: #D2E3FC;\n",
              "    }\n",
              "\n",
              "    [theme=dark] .colab-df-convert:hover {\n",
              "      background-color: #434B5C;\n",
              "      box-shadow: 0px 1px 3px 1px rgba(0, 0, 0, 0.15);\n",
              "      filter: drop-shadow(0px 1px 2px rgba(0, 0, 0, 0.3));\n",
              "      fill: #FFFFFF;\n",
              "    }\n",
              "  </style>\n",
              "\n",
              "      <script>\n",
              "        const buttonEl =\n",
              "          document.querySelector('#df-16f9c3ad-0591-49e8-b9bf-49b3d9370aff button.colab-df-convert');\n",
              "        buttonEl.style.display =\n",
              "          google.colab.kernel.accessAllowed ? 'block' : 'none';\n",
              "\n",
              "        async function convertToInteractive(key) {\n",
              "          const element = document.querySelector('#df-16f9c3ad-0591-49e8-b9bf-49b3d9370aff');\n",
              "          const dataTable =\n",
              "            await google.colab.kernel.invokeFunction('convertToInteractive',\n",
              "                                                     [key], {});\n",
              "          if (!dataTable) return;\n",
              "\n",
              "          const docLinkHtml = 'Like what you see? Visit the ' +\n",
              "            '<a target=\"_blank\" href=https://colab.research.google.com/notebooks/data_table.ipynb>data table notebook</a>'\n",
              "            + ' to learn more about interactive tables.';\n",
              "          element.innerHTML = '';\n",
              "          dataTable['output_type'] = 'display_data';\n",
              "          await google.colab.output.renderOutput(dataTable, element);\n",
              "          const docLink = document.createElement('div');\n",
              "          docLink.innerHTML = docLinkHtml;\n",
              "          element.appendChild(docLink);\n",
              "        }\n",
              "      </script>\n",
              "    </div>\n",
              "  </div>\n",
              "  "
            ]
          },
          "metadata": {}
        }
      ],
      "source": [
        "# vamos usar a função display para imprimir o dataframe.\n",
        "# Obs: poderíamos ter usado a função print: print(df_dataset.head(n=5))\n",
        "display(df_dataset.head(n=5))"
      ]
    },
    {
      "cell_type": "markdown",
      "metadata": {
        "nbpresent": {
          "id": "07098e60-68cd-4f31-b0ca-f88203ab61b2"
        },
        "id": "md3g6FeNn1wE"
      },
      "source": [
        "Agora, vamos guardar os dados dentro de uma matriz e as classes dentro de um vetor. As cinco primeiras linhas da matriz de dados e do vetor de classes serão exibidos."
      ]
    },
    {
      "cell_type": "code",
      "execution_count": null,
      "metadata": {
        "nbpresent": {
          "id": "66b4b9cc-ebb3-4d13-af8a-63d12cb23725"
        },
        "colab": {
          "base_uri": "https://localhost:8080/",
          "height": 140
        },
        "id": "bIPCDnrin1wF",
        "outputId": "6e182f74-effe-4f68-f0a0-5318eac397e0"
      },
      "outputs": [
        {
          "output_type": "display_data",
          "data": {
            "text/plain": [
              "'X:'"
            ],
            "application/vnd.google.colaboratory.intrinsic+json": {
              "type": "string"
            }
          },
          "metadata": {}
        },
        {
          "output_type": "display_data",
          "data": {
            "text/plain": [
              "array([[4.9, 3.1],\n",
              "       [4.4, 3. ],\n",
              "       [5.7, 4.4],\n",
              "       [5.5, 4.2],\n",
              "       [4.9, 3.1]])"
            ]
          },
          "metadata": {}
        },
        {
          "output_type": "stream",
          "name": "stdout",
          "text": [
            "Y: [0 0 0 0 0]\n"
          ]
        }
      ],
      "source": [
        "# Pega os valores das n-1 primeiras colunas e guarda em uma matrix X\n",
        "X = df_dataset.iloc[:, 0:-1].values\n",
        "\n",
        "# Pega os valores da ultima coluna e guarda em um vetor Y\n",
        "Y = df_dataset.iloc[:, -1].values\n",
        "\n",
        "# Imprime as 5 primeiras linhas da matriz X\n",
        "display('X:', X[0:5,:])\n",
        "\n",
        "# Imprime os 5 primeiros valores de Y\n",
        "print('Y:', Y[0:5])"
      ]
    },
    {
      "cell_type": "markdown",
      "metadata": {
        "nbpresent": {
          "id": "e22583ed-a7a5-4a8f-945f-4342b5ca4523"
        },
        "id": "SQeZzZDLn1wF"
      },
      "source": [
        "Agora, vamos criar uma função para plotar os dados."
      ]
    },
    {
      "cell_type": "code",
      "execution_count": null,
      "metadata": {
        "nbpresent": {
          "id": "4c0492d9-4630-45c6-acaf-83d4cb4696ed"
        },
        "colab": {
          "base_uri": "https://localhost:8080/",
          "height": 405
        },
        "id": "dZoqf1RXn1wG",
        "outputId": "1af0bef0-c351-4743-c9ea-24dfa6254177"
      },
      "outputs": [
        {
          "output_type": "display_data",
          "data": {
            "text/plain": [
              "<Figure size 720x432 with 1 Axes>"
            ],
            "image/png": "[encoded data removed]"
          },
          "metadata": {
            "needs_background": "light"
          }
        }
      ],
      "source": [
        "# Importando a biblioteca matplotlib\n",
        "import matplotlib.pyplot as plt\n",
        "\n",
        "# Criando a função para plotar os dados\n",
        "def visualizarDados(X,Y, nome_classe0, nome_classe1):\n",
        "    \"\"\"\n",
        "    Função usada para plotar os dados\n",
        "    \"\"\"\n",
        "\n",
        "    # definindo o tamanho da figura\n",
        "    plt.figure(figsize=(10,6))\n",
        "\n",
        "    # plota os dados da classe 0\n",
        "    plt.scatter( X[Y==0,0], X[Y==0,1], label=nome_classe0, marker='o', color='red', s=80)\n",
        "\n",
        "    # plota os dados da classe 1\n",
        "    plt.scatter( X[Y==1,0], X[Y==1,1], label=nome_classe1, marker='+', color='blue', s=80)\n",
        "\n",
        "    # define os nomes dos eixos x e y\n",
        "    plt.xlabel(r'Comprimento da petala',fontsize='medium')\n",
        "    plt.ylabel(r'Largura da petala',fontsize='medium')\n",
        "\n",
        "    # plota a legenda\n",
        "    plt.legend()\n",
        "\n",
        "    # define o título do gráfico\n",
        "    plt.title('Plot 2D da base de dados Iris', fontsize='x-large')\n",
        "\n",
        "# Chamando a função que plota os dados\n",
        "visualizarDados(X,Y, 'Iris Setosa', 'Iris Versicolour')\n",
        "\n",
        "# exibe o grafico\n",
        "plt.show()"
      ]
    },
    {
      "cell_type": "markdown",
      "metadata": {
        "id": "2yExxY0Kn1wG"
      },
      "source": [
        "## Implementação da método Perceptron\n",
        "\n",
        "Implemente o método Perceptron em aplique na base de dados fornecida. Separe 80\\% da base de dados para treinamento e teste nos 20% restantes."
      ]
    },
    {
      "cell_type": "markdown",
      "metadata": {
        "id": "17g6yamIn1wH"
      },
      "source": [
        "---\n",
        "Antes de implementar o Perceptron, vamos separar os dados em treino (80%) e teste (20%)."
      ]
    },
    {
      "cell_type": "code",
      "execution_count": null,
      "metadata": {
        "colab": {
          "base_uri": "https://localhost:8080/"
        },
        "id": "p3pH8NAYn1wH",
        "outputId": "f5a15569-f32f-46a5-ebc8-257cac3ec00f"
      },
      "outputs": [
        {
          "output_type": "stream",
          "name": "stdout",
          "text": [
            "Qtd. dados de treinamento: 72 (80.00%)\n",
            "Qtd. de dados de teste: 18 (20.00%)\n",
            "[[4.9 3.1]\n",
            " [4.4 3. ]\n",
            " [5.7 4.4]\n",
            " [5.5 4.2]\n",
            " [4.9 3.1]]\n"
          ]
        }
      ],
      "source": [
        "# define a porcentagem de treinamento\n",
        "porcTrain = 0.8\n",
        "\n",
        "# vamos usar uma semente para que sempre separe igualmente\n",
        "randomSeed = 20\n",
        "\n",
        "# embaralha os indices\n",
        "permutedIndexes = np.random.RandomState(randomSeed).permutation( X.shape[0] )\n",
        "\n",
        "# embaralha os dados com base nos indices embaralhados\n",
        "X_shuffled, Y_shuffled = X[permutedIndexes,:], Y[permutedIndexes]\n",
        "\n",
        "# separa em treino e teste\n",
        "qtdTreino = int(X_shuffled.shape[0]*0.8)\n",
        "X_train, Y_train = X_shuffled[0:qtdTreino,:], Y_shuffled[0:qtdTreino]\n",
        "X_test, Y_test = X_shuffled[qtdTreino:,:], Y_shuffled[qtdTreino:]\n",
        "\n",
        "print('Qtd. dados de treinamento: %d (%1.2f%%)' %(X_train.shape[0], (X_train.shape[0]/X.shape[0])*100) )\n",
        "print('Qtd. de dados de teste: %d (%1.2f%%)' %(X_test.shape[0], (X_test.shape[0]/X.shape[0])*100) )\n",
        "\n",
        "print(X[0:5,:])"
      ]
    },
    {
      "cell_type": "markdown",
      "metadata": {
        "id": "8XFiAPaln1wI"
      },
      "source": [
        "Agora, vamos mudar os Y para o intervalo -1 a 1, para ser fiel ao algoritmo original do Perceptron."
      ]
    },
    {
      "cell_type": "code",
      "execution_count": null,
      "metadata": {
        "colab": {
          "base_uri": "https://localhost:8080/"
        },
        "id": "ZmHoNSl8n1wI",
        "outputId": "2c9f123b-b93f-4694-da4e-0aa63072a30a"
      },
      "outputs": [
        {
          "output_type": "stream",
          "name": "stdout",
          "text": [
            "Classes Y_train:  [-1  1]\n",
            "Classes Y_test:  [-1  1]\n"
          ]
        }
      ],
      "source": [
        "Y_train[ Y_train==0 ] = -1\n",
        "Y_test[ Y_test==0 ] = -1\n",
        "\n",
        "print(\"Classes Y_train: \", np.unique(Y_train) )\n",
        "print(\"Classes Y_test: \", np.unique(Y_test) )"
      ]
    },
    {
      "cell_type": "markdown",
      "metadata": {
        "id": "cWMreMRYn1wI"
      },
      "source": [
        "Agora você deve completar o código do Perceptron."
      ]
    },
    {
      "cell_type": "code",
      "execution_count": null,
      "metadata": {
        "id": "iMK-p0n6n1wJ",
        "colab": {
          "base_uri": "https://localhost:8080/"
        },
        "outputId": "dee8cb48-4c1e-425b-82cc-c024769eba4c"
      },
      "outputs": [
        {
          "output_type": "stream",
          "name": "stdout",
          "text": [
            "Epoca: 0\n",
            "Epoca: 50\n",
            "Epoca: 100\n",
            "Epoca: 150\n",
            "\n",
            "Treinamento do Perceptron concluido\n",
            "\n",
            "Erro esperado na ultima epoca: 0.00\n",
            "Erro encontrado na ultima epoca: 0.00\n",
            "\n",
            "\n",
            "Pesos finais esperados = [-0.1, 0.095, -0.143]\n",
            "\n",
            "Pesos finais encontrados = \n",
            "[-0.101  0.095 -0.143]\n"
          ]
        }
      ],
      "source": [
        "def Perceptron(X, Y, learnRate):\n",
        "\n",
        "    # Qtde de amostras\n",
        "    m = X.shape[0]\n",
        "\n",
        "    # para facilitar, vamos adicionar uma coluna de 1s no X para\n",
        "    # multiplicar pelo bias\n",
        "    X = np.hstack( [np.ones([m,1]),X] )\n",
        "\n",
        "    # Vamos inicializar os pesos w com valor 0.\n",
        "    # O vetor w precisa ter uma quantidade de elementos igual ao\n",
        "    # numero de atributos de X\n",
        "    # Lembre-se que adicionamos uma coluna 1 no X. O vetor w,\n",
        "    # tambem tera um valor a mais, pois para facilitar\n",
        "    # vamos inserir o bias na primeira posicao de W.\n",
        "    w = np.zeros( X.shape[1] )\n",
        "\n",
        "    # definindo uma quantidade maxima de iteracoes\n",
        "    maxEpocas = 1000\n",
        "\n",
        "    taxaErro = 1 # inicializando a taxa de erro. Esse valor deve ser atualizado pela rede em cada epoca\n",
        "    minTaxaErro = 0.0 # defini a taxa minima de erro\n",
        "    historicoErro = [] # inicializa uma lista que deve guardar o erro em cada epoca\n",
        "    iEpoca = 0 # inicializa o indice da epoca atual\n",
        "\n",
        "    while taxaErro > minTaxaErro and iEpoca < (maxEpocas-1):\n",
        "\n",
        "        # imprimi o numero de epoca a cada 50 iteracoes\n",
        "        if (iEpoca+1)%50 == 1:\n",
        "            print(\"Epoca: %d\" %(iEpoca) )\n",
        "\n",
        "        ########################## COMPLETE O CÓDIGO AQUI  ########################\n",
        "        # Instrucoes: Voce deve completar o codigo a partir daqui\n",
        "        #\n",
        "        # (1): Calcule a resposta da rede\n",
        "        # (2): Aplique a função de ativação\n",
        "        # (3): Calcule o erro\n",
        "        # (4): Atualize os pesos\n",
        "        # (5): a taxa de erro é a quantidade de erros dividido pela quantidade de dados\n",
        "        #\n",
        "        # Obs: o aprendizado do Perceptron é online (um exemplo por vez)\n",
        "        #\n",
        "\n",
        "        d = 0\n",
        "        e = 0\n",
        "        erro = 0\n",
        "\n",
        "        for i in range(m):\n",
        "          y = np.sign(np.dot(w.T , X[i]))\n",
        "\n",
        "          if Y[i] == 1:\n",
        "            d = 1\n",
        "          else:\n",
        "            d = -1\n",
        "\n",
        "          if y != d:\n",
        "            erro += 1\n",
        "            e = d - y\n",
        "            w = w + (learnRate * e * X[i])\n",
        "\n",
        "\n",
        "        taxaErro = erro / m\n",
        "\n",
        "\n",
        "\n",
        "\n",
        "\n",
        "\n",
        "\n",
        "\n",
        "\n",
        "\n",
        "\n",
        "\n",
        "\n",
        "\n",
        "\n",
        "\n",
        "        ##########################################################################\n",
        "\n",
        "        # guarda o erro calculado na epoca atual\n",
        "        historicoErro.append(taxaErro)\n",
        "\n",
        "        # incrementa a epoca\n",
        "        iEpoca += 1\n",
        "\n",
        "    return w, historicoErro\n",
        "\n",
        "\n",
        "\n",
        "# usando os dados para treinar o Perceptron\n",
        "\n",
        "# defini a taxa de aprendizado\n",
        "learnRate = 0.001\n",
        "\n",
        "# treina o Perceptron\n",
        "w, historicoErro = Perceptron( X_train, Y_train, learnRate )\n",
        "\n",
        "print(\"\\nTreinamento do Perceptron concluido\")\n",
        "\n",
        "print('\\nErro esperado na ultima epoca: 0.00')\n",
        "print('Erro encontrado na ultima epoca: %1.2f' %(historicoErro[-1]))\n",
        "\n",
        "print('\\n\\nPesos finais esperados = [-0.1, 0.095, -0.143]')\n",
        "print('\\nPesos finais encontrados = ')\n",
        "print( np.round(w,3) )"
      ]
    },
    {
      "cell_type": "markdown",
      "metadata": {
        "id": "YP4omVCen1wK"
      },
      "source": [
        "Vamos plotar os valores dos erros ao longo das épocas de treinamento."
      ]
    },
    {
      "cell_type": "code",
      "execution_count": null,
      "metadata": {
        "id": "S9qrwR6Jn1wK",
        "colab": {
          "base_uri": "https://localhost:8080/",
          "height": 513
        },
        "outputId": "bcb02177-dacb-40bf-d9f2-49e48fe15619"
      },
      "outputs": [
        {
          "output_type": "display_data",
          "data": {
            "text/plain": [
              "<Figure size 576x576 with 1 Axes>"
            ],
            "image/png": "[encoded data removed]"
          },
          "metadata": {
            "needs_background": "light"
          }
        }
      ],
      "source": [
        "# define o tamanho da figura\n",
        "fig, ax = plt.subplots(figsize=(8, 8))\n",
        "plt.plot(historicoErro)\n",
        "\n",
        "ax.set_title(\"Evolucao do erro\", fontsize='large')\n",
        "\n",
        "# define os nomes dos eixos x e y\n",
        "plt.xlabel(r'Epoca',fontsize='medium')\n",
        "plt.ylabel(r'Erro',fontsize='medium')\n",
        "plt.show()"
      ]
    },
    {
      "cell_type": "markdown",
      "metadata": {
        "id": "mD9BixCbn1wL"
      },
      "source": [
        "Agora, vamos testar os pesos aprendidos pelo Perceptron na classificação dos dados de teste."
      ]
    },
    {
      "cell_type": "code",
      "execution_count": null,
      "metadata": {
        "id": "uh_sSwUTn1wL",
        "colab": {
          "base_uri": "https://localhost:8080/"
        },
        "outputId": "c8349631-63f0-49c2-970f-85b2b05befcb"
      },
      "outputs": [
        {
          "output_type": "stream",
          "name": "stdout",
          "text": [
            "[ 1. -1.  1. -1.  1.  1. -1. -1. -1. -1. -1.  1.  1. -1.  1.  1. -1. -1.]\n",
            "Acuracia esperada = 0.94\n",
            "Acuracia encontrada: 0.94\n"
          ]
        }
      ],
      "source": [
        "def predicao(w, X):\n",
        "    \"\"\"\n",
        "    Faz a predicao das amostras\n",
        "    com base nos pesos recebidos como parametro\n",
        "    \"\"\"\n",
        "\n",
        "    # Qtde de amostras\n",
        "    m = X.shape[0]\n",
        "\n",
        "    # para facilitar, vamos adicionar uma coluna de 1s no X para\n",
        "    # multiplicar pelo bias\n",
        "    X = np.hstack( [np.ones([m,1]),X] )\n",
        "\n",
        "    # Você precisa retornar um vetor com as classes preditas\n",
        "    Y_pred = np.zeros(m, dtype=int)\n",
        "\n",
        "    ########################## COMPLETE O CÓDIGO AQUI  ########################\n",
        "    # Instrucoes: Complete o codigo a seguir para fazer predicoes usando\n",
        "    # os pesos ajustados pele Perceptron.\n",
        "    # Y_pred devera ser um vetor composto somente por 1's e -1's\n",
        "\n",
        "\n",
        "    Y_pred = np.sign(np.dot(w, X.T))\n",
        "    print(Y_pred)\n",
        "\n",
        "\n",
        "\n",
        "\n",
        "\n",
        "\n",
        "\n",
        "\n",
        "\n",
        "    ##########################################################################\n",
        "\n",
        "    return Y_pred\n",
        "\n",
        "\n",
        "# faz a predicao dos dados de teste\n",
        "Y_pred = predicao(w, X_test)\n",
        "\n",
        "# vamos calcular a acuracia (porcentagem de acerto)\n",
        "acuracia = np.sum( Y_pred == Y_test) / len(Y_test)\n",
        "\n",
        "print('Acuracia esperada = 0.94')\n",
        "print(\"Acuracia encontrada: %1.2f\" %acuracia)"
      ]
    },
    {
      "cell_type": "markdown",
      "metadata": {
        "id": "xEyFcfSHn1wM"
      },
      "source": [
        "Vamos criar uma funcao para plotar a superfície de decisão criada pelo Perceptron."
      ]
    },
    {
      "cell_type": "code",
      "execution_count": null,
      "metadata": {
        "id": "jm7kuIBwn1wM",
        "colab": {
          "base_uri": "https://localhost:8080/",
          "height": 530
        },
        "outputId": "b8cbe828-e107-4f5e-d426-f91f7cc7a0a7"
      },
      "outputs": [
        {
          "output_type": "stream",
          "name": "stdout",
          "text": [
            "[ 1.  1.  1. ... -1. -1. -1.]\n"
          ]
        },
        {
          "output_type": "display_data",
          "data": {
            "text/plain": [
              "<Figure size 576x576 with 1 Axes>"
            ],
            "image/png": "[encoded data removed]"
          },
          "metadata": {
            "needs_background": "light"
          }
        }
      ],
      "source": [
        "def plota_superficieDecisao(X_train, Y_train, X_test, Y_test, w, ax, title = \"\", nome_classe0 = \"\", nome_classe1 = \"\"):\n",
        "    h = .008  # tamanho do passo da malha (mesh)\n",
        "\n",
        "    # cria uma malha (mesh)\n",
        "    x_min, x_max = X_train[:, 0].min() - 0.3, X_train[:, 0].max() + 0.3\n",
        "    y_min, y_max = X_train[:, 1].min() - 0.3, X_train[:, 1].max() + 0.3\n",
        "    xx, yy = np.meshgrid(np.arange(x_min, x_max, h),\n",
        "                         np.arange(y_min, y_max, h))\n",
        "\n",
        "\n",
        "    X_testGrid = np.c_[xx.ravel(), yy.ravel()]\n",
        "    Z = predicao(w, X_testGrid)\n",
        "\n",
        "    # converte os valores do vetor para indices\n",
        "    Z2 = np.unique(Z, return_inverse=True)[1]\n",
        "\n",
        "    # plota a superficie de decisao\n",
        "    Z2 = Z2.reshape(xx.shape)\n",
        "    ax.contourf(xx, yy, Z2, cmap=plt.cm.Paired, alpha=.4)\n",
        "\n",
        "    # converte os valores do vetor para indices\n",
        "    Y2_train = np.unique(Y_train, return_inverse=True)[1]\n",
        "\n",
        "    # plota os dados da classe -1\n",
        "    plt.scatter( X_train[Y_train==-1,0], X_train[Y_train==-1,1], label=nome_classe0 + \" - treino\", marker='o', color='blue', s=50)\n",
        "    plt.scatter( X_test[Y_test==-1,0], X_test[Y_test==-1,1], label=nome_classe0 + \" - teste\", marker='+', color='blue', s=50)\n",
        "\n",
        "    # plota os dados da classe 1\n",
        "    plt.scatter( X_train[Y_train==1,0], X_train[Y_train==1,1], label=nome_classe1 + \" - treino\", marker='o', color='red', s=50)\n",
        "    plt.scatter( X_test[Y_test==1,0], X_test[Y_test==1,1], label=nome_classe1 + \" - teste\", marker='+', color='red', s=50)\n",
        "\n",
        "    ax.set_xlim(xx.min(), xx.max())\n",
        "    ax.set_ylim(yy.min(), yy.max())\n",
        "    ax.set_title(title, fontsize='large')\n",
        "\n",
        "    # define os nomes dos eixos x e y\n",
        "    plt.xlabel(r'Comprimento da petala',fontsize='medium')\n",
        "    plt.ylabel(r'Largura da petala',fontsize='medium')\n",
        "\n",
        "    # plota a legenda\n",
        "    plt.legend()\n",
        "\n",
        "\n",
        "# define o tamanho da figura\n",
        "fig, ax = plt.subplots(figsize=(8, 8))\n",
        "\n",
        "# chama a funcao para plotar a superficie de decisao juntamente com os dados de treinamento\n",
        "tituloGrafico = \"Superficie de decisao aprendida pelo Perceptron\"\n",
        "nomeClasse0 = 'Iris Setosa'\n",
        "nomeClasse1 = 'Iris Versicolour'\n",
        "plota_superficieDecisao(X_train, Y_train, X_test, Y_test, w, ax, title = tituloGrafico, nome_classe0 = nomeClasse0, nome_classe1 = nomeClasse1)\n",
        "\n",
        "plt.show()"
      ]
    }
  ],
  "metadata": {
    "kernelspec": {
      "display_name": "Python 3 (ipykernel)",
      "language": "python",
      "name": "python3"
    },
    "language_info": {
      "codemirror_mode": {
        "name": "ipython",
        "version": 3
      },
      "file_extension": ".py",
      "mimetype": "text/x-python",
      "name": "python",
      "nbconvert_exporter": "python",
      "pygments_lexer": "ipython3",
      "version": "3.8.8"
    },
    "colab": {
      "provenance": []
    }
  },
  "nbformat": 4,
  "nbformat_minor": 0
}